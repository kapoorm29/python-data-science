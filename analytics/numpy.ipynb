{
 "cells": [
  {
   "cell_type": "code",
   "execution_count": 14,
   "metadata": {},
   "outputs": [],
   "source": [
    "import numpy as np"
   ]
  },
  {
   "cell_type": "markdown",
   "metadata": {},
   "source": [
    "create"
   ]
  },
  {
   "cell_type": "code",
   "execution_count": 15,
   "metadata": {},
   "outputs": [
    {
     "name": "stdout",
     "output_type": "stream",
     "text": [
      "[2 3 1 5]\n",
      "<class 'numpy.ndarray'>\n"
     ]
    }
   ],
   "source": [
    "x1 = np.array([2,3,1,5])\n",
    "print(x1)\n",
    "print(type(x1))"
   ]
  },
  {
   "cell_type": "code",
   "execution_count": 16,
   "metadata": {},
   "outputs": [
    {
     "name": "stdout",
     "output_type": "stream",
     "text": [
      "[[1 2 3]\n",
      " [4 5 6]]\n",
      "<class 'numpy.ndarray'>\n"
     ]
    }
   ],
   "source": [
    "x2 = np.array([\n",
    "    [1,2,3],\n",
    "    [4,5,6]\n",
    "])\n",
    "print(x2)\n",
    "print(type(x2))"
   ]
  },
  {
   "cell_type": "markdown",
   "metadata": {},
   "source": [
    "methods to create matrix\n",
    "1) 1D\n",
    "      a)arrange() - start , stop , step\n",
    "      b) linspace() - start , stop , numOfElements\n",
    "2) 2D\n",
    "       a) random.randint( ) - low,high,size       "
   ]
  },
  {
   "cell_type": "code",
   "execution_count": 17,
   "metadata": {},
   "outputs": [
    {
     "name": "stdout",
     "output_type": "stream",
     "text": [
      "[10 13 16 19 22 25 28 31 34 37 40 43 46 49]\n",
      "(14,)\n"
     ]
    }
   ],
   "source": [
    "a = np.arange(10, 51, 3)\n",
    "print(a)\n",
    "print(a.shape)   #gives the number of items in the array"
   ]
  },
  {
   "cell_type": "code",
   "execution_count": 18,
   "metadata": {},
   "outputs": [
    {
     "name": "stdout",
     "output_type": "stream",
     "text": [
      "[10.         10.1010101  10.2020202  10.3030303  10.4040404  10.50505051\n",
      " 10.60606061 10.70707071 10.80808081 10.90909091 11.01010101 11.11111111\n",
      " 11.21212121 11.31313131 11.41414141 11.51515152 11.61616162 11.71717172\n",
      " 11.81818182 11.91919192 12.02020202 12.12121212 12.22222222 12.32323232\n",
      " 12.42424242 12.52525253 12.62626263 12.72727273 12.82828283 12.92929293\n",
      " 13.03030303 13.13131313 13.23232323 13.33333333 13.43434343 13.53535354\n",
      " 13.63636364 13.73737374 13.83838384 13.93939394 14.04040404 14.14141414\n",
      " 14.24242424 14.34343434 14.44444444 14.54545455 14.64646465 14.74747475\n",
      " 14.84848485 14.94949495 15.05050505 15.15151515 15.25252525 15.35353535\n",
      " 15.45454545 15.55555556 15.65656566 15.75757576 15.85858586 15.95959596\n",
      " 16.06060606 16.16161616 16.26262626 16.36363636 16.46464646 16.56565657\n",
      " 16.66666667 16.76767677 16.86868687 16.96969697 17.07070707 17.17171717\n",
      " 17.27272727 17.37373737 17.47474747 17.57575758 17.67676768 17.77777778\n",
      " 17.87878788 17.97979798 18.08080808 18.18181818 18.28282828 18.38383838\n",
      " 18.48484848 18.58585859 18.68686869 18.78787879 18.88888889 18.98989899\n",
      " 19.09090909 19.19191919 19.29292929 19.39393939 19.49494949 19.5959596\n",
      " 19.6969697  19.7979798  19.8989899  20.        ]\n"
     ]
    }
   ],
   "source": [
    "b = np.linspace(10, 20, 100)\n",
    "print(b)"
   ]
  },
  {
   "cell_type": "code",
   "execution_count": 19,
   "metadata": {},
   "outputs": [
    {
     "name": "stdout",
     "output_type": "stream",
     "text": [
      "[[140 991 952 646 474]\n",
      " [721 962 100 616 732]\n",
      " [226 963 756 346  42]\n",
      " [ 73 330 456 352 254]\n",
      " [408 346 628 236 727]]\n"
     ]
    }
   ],
   "source": [
    "c = np.random.randint(10, 1000, (5,5))\n",
    "print(c)\n"
   ]
  },
  {
   "cell_type": "code",
   "execution_count": 20,
   "metadata": {},
   "outputs": [
    {
     "name": "stdout",
     "output_type": "stream",
     "text": [
      "[[2 4 6]\n",
      " [1 3 5]]\n",
      "[[1 2]\n",
      " [5 1]\n",
      " [3 2]]\n",
      "[[40 20]\n",
      " [31 15]]\n"
     ]
    }
   ],
   "source": [
    "a = np.array([\n",
    "    [2,4,6],\n",
    "    [1,3,5]\n",
    "])\n",
    "b = np.array([\n",
    "    [1,2],\n",
    "    [5,1],\n",
    "    [3,2]\n",
    "])\n",
    "print(a, b, sep='\\n')\n",
    "print(a@b)   #matrix multiplication (dot product)"
   ]
  },
  {
   "cell_type": "markdown",
   "metadata": {},
   "source": [
    "properties\n"
   ]
  },
  {
   "cell_type": "code",
   "execution_count": 21,
   "metadata": {},
   "outputs": [
    {
     "name": "stdout",
     "output_type": "stream",
     "text": [
      "[[2 4 6]\n",
      " [1 3 5]]\n",
      "size\n",
      "6\n",
      "shape\n",
      "(2, 3)\n",
      "dimension\n",
      "2\n",
      "dtype\n",
      "int32\n"
     ]
    }
   ],
   "source": [
    "print(a)\n",
    "print('size')\n",
    "print(a.size)\n",
    "print('shape')\n",
    "print(a.shape)\n",
    "print('dimension')\n",
    "print(a.ndim)\n",
    "print('dtype')\n",
    "print(a.dtype)"
   ]
  },
  {
   "cell_type": "code",
   "execution_count": 22,
   "metadata": {},
   "outputs": [
    {
     "name": "stdout",
     "output_type": "stream",
     "text": [
      "[[98 54 28 44 59]\n",
      " [77 33 76 34 42]\n",
      " [76 37 85 19 96]\n",
      " [25 80 61 48 39]]\n",
      "[[98 54 28 44]\n",
      " [59 77 33 76]\n",
      " [34 42 76 37]\n",
      " [85 19 96 25]\n",
      " [80 61 48 39]]\n",
      "[[98 54 28 44 59 77 33 76 34 42 76 37 85 19 96 25 80 61 48 39]]\n",
      "[[98]\n",
      " [54]\n",
      " [28]\n",
      " [44]\n",
      " [59]\n",
      " [77]\n",
      " [33]\n",
      " [76]\n",
      " [34]\n",
      " [42]\n",
      " [76]\n",
      " [37]\n",
      " [85]\n",
      " [19]\n",
      " [96]\n",
      " [25]\n",
      " [80]\n",
      " [61]\n",
      " [48]\n",
      " [39]]\n",
      "[[98 54 28 44 59 77 33 76 34 42]\n",
      " [76 37 85 19 96 25 80 61 48 39]]\n"
     ]
    }
   ],
   "source": [
    "x = np.random.randint(10,99, (4,5))\n",
    "print(x)\n",
    "print(x.reshape(5,4))\n",
    "print(x.reshape(1,20))\n",
    "print(x.reshape(20,1))\n",
    "print(x.reshape(2,10))"
   ]
  },
  {
   "cell_type": "code",
   "execution_count": 23,
   "metadata": {},
   "outputs": [
    {
     "name": "stdout",
     "output_type": "stream",
     "text": [
      "[98 54 28 44 59 77 33 76 34 42 76 37 85 19 96 25 80 61 48 39]\n"
     ]
    }
   ],
   "source": [
    "print(x.flatten())  #n dimensional array to 1 dimensional array"
   ]
  },
  {
   "cell_type": "code",
   "execution_count": 24,
   "metadata": {},
   "outputs": [
    {
     "name": "stdout",
     "output_type": "stream",
     "text": [
      "[[3 6]\n",
      " [6 4]]\n",
      "[[ 1  2]\n",
      " [-4  2]]\n",
      "[[2 8]\n",
      " [5 3]]\n",
      "[[2.  2. ]\n",
      " [0.2 3. ]]\n",
      "[[22  8]\n",
      " [16  5]]\n"
     ]
    }
   ],
   "source": [
    "a = np.array([\n",
    "    [2,4],\n",
    "    [1,3]\n",
    "])\n",
    "b = np.array([\n",
    "    [1,2],\n",
    "    [5,1]\n",
    "])\n",
    "#addition\n",
    "print(a + b)\n",
    "#subtraction\n",
    "print(a - b)\n",
    "#multiplication\n",
    "print(a * b)\n",
    "#division\n",
    "print(a / b)\n",
    "#dot product\n",
    "print(a @ b)  #matrix multiplication"
   ]
  },
  {
   "cell_type": "code",
   "execution_count": 27,
   "metadata": {},
   "outputs": [
    {
     "name": "stdout",
     "output_type": "stream",
     "text": [
      "[[98 54 28 44 59]\n",
      " [77 33 76 34 42]\n",
      " [76 37 85 19 96]\n",
      " [25 80 61 48 39]]\n",
      "1111\n",
      "[276 204 250 145 236]\n",
      "[283 262 313 253]\n",
      "19 98\n",
      "13 0\n"
     ]
    }
   ],
   "source": [
    "print(x)\n",
    "print(x.sum())\n",
    "print(x.sum(axis=0))\n",
    "print(x.sum(axis=1))\n",
    "\n",
    "#max and min \n",
    "\n",
    "print (x.min(), x.max())\n",
    "\n",
    "#argmax and argmin ->information about the index of the max and min\n",
    "print (x.argmin(), x.argmax())"
   ]
  },
  {
   "cell_type": "markdown",
   "metadata": {},
   "source": [
    "slicing\n",
    "1) 1d array\n",
    "x[start:stop:step]\n",
    "\n",
    "2) 2d array\n",
    "\n",
    "x[rowstart:rowstop:rowstep , colstart:colstop:colstep]"
   ]
  },
  {
   "cell_type": "code",
   "execution_count": 29,
   "metadata": {},
   "outputs": [
    {
     "name": "stdout",
     "output_type": "stream",
     "text": [
      "[[91 74 75 62 84 19 76 27 58 50]\n",
      " [44 11 17 53 82 73 17 84 39 41]\n",
      " [95 19 10 85 32 69 21 18 13 95]\n",
      " [36 40 84 75 81 27 44 22 20 81]\n",
      " [80 73 75 91 25 72 58 57 97 73]\n",
      " [19 80 88 92 18 85 23 92 96 94]\n",
      " [68 21 70 98 27 52 25 57 60 40]\n",
      " [89 56 26 79 38 10 71 78 69 85]\n",
      " [30 69 15 26 11 55 91 22 98 38]\n",
      " [87 51 37 15 93 93 12 42 13 57]]\n"
     ]
    }
   ],
   "source": [
    "x = np.random.randint(10, 100, (10, 10))\n",
    "print(x)"
   ]
  },
  {
   "cell_type": "code",
   "execution_count": 30,
   "metadata": {},
   "outputs": [
    {
     "data": {
      "text/plain": [
       "91"
      ]
     },
     "execution_count": 30,
     "metadata": {},
     "output_type": "execute_result"
    }
   ],
   "source": [
    "x[0,0]"
   ]
  },
  {
   "cell_type": "code",
   "execution_count": 31,
   "metadata": {},
   "outputs": [
    {
     "name": "stdout",
     "output_type": "stream",
     "text": [
      "91\n",
      "57\n",
      "[91 74 75 62 84 19 76 27 58 50]\n",
      "[87 51 37 15 93 93 12 42 13 57]\n",
      "[91 44 95 36 80 19 68 89 30 87]\n",
      "[74 11 19 40 73]\n",
      "92\n",
      "[[91 74 75]\n",
      " [44 11 17]\n",
      " [95 19 10]\n",
      " [36 40 84]\n",
      " [80 73 75]\n",
      " [19 80 88]\n",
      " [68 21 70]\n",
      " [89 56 26]\n",
      " [30 69 15]\n",
      " [87 51 37]]\n",
      "[[27 58 50]\n",
      " [84 39 41]\n",
      " [18 13 95]\n",
      " [22 20 81]\n",
      " [57 97 73]\n",
      " [92 96 94]\n",
      " [57 60 40]\n",
      " [78 69 85]\n",
      " [22 98 38]\n",
      " [42 13 57]]\n"
     ]
    }
   ],
   "source": [
    "print(x[0,0]) #first element\n",
    "print(x[-1,-1]) #last element\n",
    "print(x[0]) #first row\n",
    "print(x[-1]) #last row\n",
    "print(x[:,0]) #first column\n",
    "print(x[:5,1]) #first 5 rows of second column\n",
    "print(x[-5,3]) #last 5 rows of the fourth column\n",
    "print(x[:,:3]) #first 3 column\n",
    "print(x[:,-3:]) #last 3 column"
   ]
  },
  {
   "cell_type": "code",
   "execution_count": null,
   "metadata": {},
   "outputs": [],
   "source": []
  }
 ],
 "metadata": {
  "kernelspec": {
   "display_name": "base",
   "language": "python",
   "name": "python3"
  },
  "language_info": {
   "codemirror_mode": {
    "name": "ipython",
    "version": 3
   },
   "file_extension": ".py",
   "mimetype": "text/x-python",
   "name": "python",
   "nbconvert_exporter": "python",
   "pygments_lexer": "ipython3",
   "version": "3.11.5"
  }
 },
 "nbformat": 4,
 "nbformat_minor": 2
}
