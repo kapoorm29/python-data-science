{
 "cells": [
  {
   "cell_type": "code",
   "execution_count": null,
   "metadata": {},
   "outputs": [],
   "source": [
    "my_string = 'hello'\n",
    "print(my_string)"
   ]
  },
  {
   "cell_type": "code",
   "execution_count": null,
   "metadata": {},
   "outputs": [],
   "source": [
    "my_string = \"hello\"\n",
    "print(my_string)"
   ]
  },
  {
   "cell_type": "code",
   "execution_count": null,
   "metadata": {},
   "outputs": [],
   "source": [
    "my_string = '''hello'''\n",
    "print(my_string)"
   ]
  },
  {
   "cell_type": "markdown",
   "metadata": {},
   "source": []
  },
  {
   "cell_type": "code",
   "execution_count": null,
   "metadata": {},
   "outputs": [],
   "source": [
    "# triple quotes string can extend multiple lines\n",
    "\n",
    "my_string = \"\"\"hello, welcome to \n",
    "            the world of python\"\"\"\n",
    "print(my_string)"
   ]
  },
  {
   "cell_type": "code",
   "execution_count": 1,
   "metadata": {},
   "outputs": [
    {
     "name": "stdout",
     "output_type": "stream",
     "text": [
      "str =  digipodium\n"
     ]
    }
   ],
   "source": [
    "#accessing string characters in python\n",
    "\n",
    "str = 'digipodium'\n",
    "\n",
    "print('str = ', str)"
   ]
  },
  {
   "cell_type": "code",
   "execution_count": 7,
   "metadata": {},
   "outputs": [
    {
     "name": "stdout",
     "output_type": "stream",
     "text": [
      "str[0] =  d\n"
     ]
    }
   ],
   "source": [
    "#first chaaracter\n",
    "\n",
    "print('str[0] = ', str[0])"
   ]
  },
  {
   "cell_type": "code",
   "execution_count": 6,
   "metadata": {},
   "outputs": [
    {
     "name": "stdout",
     "output_type": "stream",
     "text": [
      "str[1] =  i\n"
     ]
    }
   ],
   "source": [
    "print('str[1] = ', str[1])"
   ]
  },
  {
   "cell_type": "code",
   "execution_count": 4,
   "metadata": {},
   "outputs": [
    {
     "name": "stdout",
     "output_type": "stream",
     "text": [
      "str[-1] =  m\n"
     ]
    }
   ],
   "source": [
    "print('str[-1] = ', str[-1])"
   ]
  },
  {
   "cell_type": "code",
   "execution_count": 5,
   "metadata": {},
   "outputs": [
    {
     "name": "stdout",
     "output_type": "stream",
     "text": [
      "str[-2] =  u\n"
     ]
    }
   ],
   "source": [
    "#second last character\n",
    "\n",
    "print('str[-2] = ', str[-2])\n"
   ]
  },
  {
   "cell_type": "code",
   "execution_count": 8,
   "metadata": {},
   "outputs": [
    {
     "name": "stdout",
     "output_type": "stream",
     "text": [
      "pod\n"
     ]
    }
   ],
   "source": [
    "#getting a slice\n",
    "\n",
    "s = 'digipodium'\n",
    "slice1 = s[4:7]\n",
    "print(slice1)"
   ]
  },
  {
   "cell_type": "code",
   "execution_count": 1,
   "metadata": {},
   "outputs": [
    {
     "name": "stdout",
     "output_type": "stream",
     "text": [
      "deenanath\n",
      "vijay deenanath\n"
     ]
    }
   ],
   "source": [
    "name = 'vijay deenanath chauhan'\n",
    "m_name = name[6:15]\n",
    "f_name = name[:15]\n",
    "print(m_name)\n",
    "print(f_name)\n"
   ]
  },
  {
   "cell_type": "code",
   "execution_count": 2,
   "metadata": {},
   "outputs": [
    {
     "data": {
      "text/plain": [
       "'chauhan'"
      ]
     },
     "execution_count": 2,
     "metadata": {},
     "output_type": "execute_result"
    }
   ],
   "source": [
    "name[-7:]"
   ]
  },
  {
   "cell_type": "code",
   "execution_count": 3,
   "metadata": {},
   "outputs": [
    {
     "name": "stdout",
     "output_type": "stream",
     "text": [
      "deenanath\n",
      "vijay\n",
      "chauhan\n"
     ]
    }
   ],
   "source": [
    "name = 'vijay deenanath chauhan'\n",
    "m_name = name[6:15]\n",
    "f_name = name[:5]\n",
    "l_name = name[-7:]\n",
    "print(m_name)\n",
    "print(f_name)\n",
    "print(l_name)\n"
   ]
  },
  {
   "cell_type": "code",
   "execution_count": 31,
   "metadata": {},
   "outputs": [
    {
     "name": "stdout",
     "output_type": "stream",
     "text": [
      "the quick \n",
      "y dog\n"
     ]
    }
   ],
   "source": [
    "sentence = 'the quick brown fox jumps over the lazy dog'\n",
    "print(sentence[:10])   #first 10 character\n",
    "print(sentence[-5:])   #last 5 character"
   ]
  },
  {
   "cell_type": "code",
   "execution_count": 32,
   "metadata": {},
   "outputs": [
    {
     "data": {
      "text/plain": [
       "12300"
      ]
     },
     "execution_count": 32,
     "metadata": {},
     "output_type": "execute_result"
    }
   ],
   "source": [
    "amt = \"$12300\"\n",
    "int(amt[1:])"
   ]
  },
  {
   "cell_type": "code",
   "execution_count": 35,
   "metadata": {},
   "outputs": [
    {
     "data": {
      "text/plain": [
       "'pankaj❤'"
      ]
     },
     "execution_count": 35,
     "metadata": {},
     "output_type": "execute_result"
    }
   ],
   "source": [
    "uname = \"@pankaj❤️😊😍\"\n",
    "uname[1:-3]"
   ]
  },
  {
   "cell_type": "code",
   "execution_count": 5,
   "metadata": {},
   "outputs": [
    {
     "name": "stdout",
     "output_type": "stream",
     "text": [
      "original:Data Science\n",
      "upper:DATA SCIENCE\n",
      "lower:data science\n",
      "capitalize:Data science\n"
     ]
    }
   ],
   "source": [
    "word = 'Data Science'\n",
    "word2 = word.upper()\n",
    "word3 = word.lower()\n",
    "word4 = word.capitalize()\n",
    "print(f'original:{word}')\n",
    "print(f'upper:{word2}')\n",
    "print(f'lower:{word3}')\n",
    "print(f'capitalize:{word4}')"
   ]
  },
  {
   "cell_type": "markdown",
   "metadata": {},
   "source": [
    "search and replace\n"
   ]
  },
  {
   "cell_type": "code",
   "execution_count": 7,
   "metadata": {},
   "outputs": [
    {
     "name": "stdout",
     "output_type": "stream",
     "text": [
      "5\n",
      "13\n",
      "20\n"
     ]
    }
   ],
   "source": [
    "sentence = \"data science is the science of data\"\n",
    "print(sentence.find('science'))  #search from index 0 by default\n",
    "print(sentence.find('is')) \n",
    "print(sentence.find('science', 6))  #search from index 6"
   ]
  },
  {
   "cell_type": "code",
   "execution_count": 8,
   "metadata": {},
   "outputs": [
    {
     "name": "stdout",
     "output_type": "stream",
     "text": [
      "12\n",
      "-1\n"
     ]
    }
   ],
   "source": [
    "sentence = 'the quick brown fox jumps over the lazy dog'\n",
    "print(sentence.find('own'))\n",
    "print(sentence.find('red'))"
   ]
  },
  {
   "cell_type": "code",
   "execution_count": 13,
   "metadata": {},
   "outputs": [
    {
     "name": "stdout",
     "output_type": "stream",
     "text": [
      "the quick briwn fix jumps iver the lazy dig\n",
      "the quick green fox jumps over the lazy dog\n",
      "the quick brown goat kick over the lazy goat\n"
     ]
    }
   ],
   "source": [
    "print(sentence.replace('o', 'i'))\n",
    "print(sentence.replace('brown', 'green'))\n",
    "print(sentence.replace('fox', 'dog').replace('dog', 'goat').replace('jumps', 'kick'))"
   ]
  },
  {
   "cell_type": "markdown",
   "metadata": {},
   "source": [
    "1) count\n",
    "2) split\n",
    "3) join"
   ]
  },
  {
   "cell_type": "code",
   "execution_count": 24,
   "metadata": {},
   "outputs": [
    {
     "name": "stdout",
     "output_type": "stream",
     "text": [
      "2\n",
      "5\n",
      "0\n"
     ]
    }
   ],
   "source": [
    "story = 'once there was king named Arthur, who was a great king'\n",
    "print(story.count('king'))\n",
    "print(story.count('a'))\n",
    "print(story.count('queen'))"
   ]
  },
  {
   "cell_type": "code",
   "execution_count": 26,
   "metadata": {},
   "outputs": [
    {
     "name": "stdout",
     "output_type": "stream",
     "text": [
      "['once', 'there', 'was', 'king', 'named', 'Arthur,', 'who', 'was', 'a', 'great', 'king']\n",
      "['once there was king named Arthur', ' who was a great king']\n"
     ]
    }
   ],
   "source": [
    "print(story.split())\n",
    "print(story.split(','))"
   ]
  },
  {
   "cell_type": "code",
   "execution_count": 28,
   "metadata": {},
   "outputs": [
    {
     "name": "stdout",
     "output_type": "stream",
     "text": [
      "[' johny johny. yes papa', 'eating sugar? no papa', 'telling lies? no papa', 'open your mouth ha! ha! ha!']\n",
      "[' johny johny. yes ', '\\neating sugar? no ', '\\ntelling lies? no ', '\\nopen your mouth ha! ha! ha!']\n"
     ]
    }
   ],
   "source": [
    "poem = ''' johny johny. yes papa\n",
    "eating sugar? no papa\n",
    "telling lies? no papa\n",
    "open your mouth ha! ha! ha!'''\n",
    "print(poem.splitlines())\n",
    "print(poem.split('papa'))"
   ]
  },
  {
   "cell_type": "code",
   "execution_count": 29,
   "metadata": {},
   "outputs": [
    {
     "name": "stdout",
     "output_type": "stream",
     "text": [
      "C:/users/admin/desktop/python/python.txt\n",
      "C:,users,admin,desktop,python,python.txt\n",
      "C:🥳users🥳admin🥳desktop🥳python🥳python.txt\n"
     ]
    }
   ],
   "source": [
    "pathList= ['C:','users','admin','desktop','python','python.txt']\n",
    "print(\"/\".join(pathList))\n",
    "print(\",\".join(pathList))\n",
    "print(\"🥳\".join(pathList))"
   ]
  },
  {
   "cell_type": "code",
   "execution_count": 17,
   "metadata": {},
   "outputs": [
    {
     "name": "stdout",
     "output_type": "stream",
     "text": [
      "total items = 29\n"
     ]
    }
   ],
   "source": [
    "import os\n",
    "content = os.listdir('C:/Users/Hp/Downloads/')\n",
    "print(f'total items = {len(content)}')"
   ]
  },
  {
   "cell_type": "markdown",
   "metadata": {},
   "source": [
    "1) endswith\n",
    "2) startswith"
   ]
  },
  {
   "cell_type": "code",
   "execution_count": 18,
   "metadata": {},
   "outputs": [
    {
     "name": "stdout",
     "output_type": "stream",
     "text": [
      "404.png\n",
      "clear.png\n",
      "cloud.png\n",
      "coordinate geometry.pdf.pdf\n",
      "Data-Resource.zip\n",
      "desktop.ini\n",
      "DocScanner 19 Jan 2024 22-37 (1).pdf\n",
      "DocScanner 19 Jan 2024 22-37.pdf\n",
      "Git-2.43.0-64-bit.exe\n",
      "Meenu Synopsissss.pdf\n",
      "Miniconda3-latest-Windows-x86_64.exe\n",
      "mist.png\n",
      "node-v20.11.0-x64.msi\n",
      "postgresql-16.2-1-windows-x64.exe\n",
      "python-3.6.2.exe\n",
      "rain.png\n",
      "snow.png\n",
      "Social Science.pdf\n",
      "street-view-solid.svg\n",
      "VSCodeUserSetup-x64-1.85.2.exe\n",
      "Web Development Training - Certificate of Completion (1).pdf\n",
      "Web Development Training - Certificate of Completion (2).pdf\n",
      "Web Development Training - Certificate of Completion.pdf\n",
      "WebCatalog Setup 55.1.1.exe\n",
      "X SST 2023-24 One Shot QB Mock Paper 3 (1).pdf\n",
      "X SST 2023-24 One Shot QB Mock Paper 3 (2).pdf\n",
      "X SST 2023-24 One Shot QB Mock Paper 3 (3).pdf\n",
      "X SST 2023-24 One Shot QB Mock Paper 3.pdf\n",
      "ZoomInstallerFull.exe\n"
     ]
    }
   ],
   "source": [
    "for item in content:\n",
    "    print(item)"
   ]
  },
  {
   "cell_type": "code",
   "execution_count": 19,
   "metadata": {},
   "outputs": [],
   "source": [
    "for item in content:\n",
    "    if item.endswith('.mp3'):\n",
    "        print(item)"
   ]
  },
  {
   "cell_type": "code",
   "execution_count": 20,
   "metadata": {},
   "outputs": [
    {
     "name": "stdout",
     "output_type": "stream",
     "text": [
      "------------------------------\n",
      "total exe files = 0\n"
     ]
    }
   ],
   "source": [
    "total = 0\n",
    "for item in content:\n",
    "    if item.endswith('docx'):\n",
    "        print(item)\n",
    "        total += 1\n",
    "print('---'*10) \n",
    "print(f'total exe files = {total}')       "
   ]
  },
  {
   "cell_type": "code",
   "execution_count": 23,
   "metadata": {},
   "outputs": [
    {
     "name": "stdout",
     "output_type": "stream",
     "text": [
      "Meenu Synopsissss.pdf\n",
      "------------------------------\n",
      "total exe files = 1\n"
     ]
    }
   ],
   "source": [
    "total = 0\n",
    "for item in content:\n",
    "    if  item.lower().startswith('meenu'):\n",
    "        print(item)\n",
    "        total += 1\n",
    "print('---'*10) \n",
    "print(f'total exe files = {total}')       "
   ]
  },
  {
   "cell_type": "code",
   "execution_count": null,
   "metadata": {},
   "outputs": [],
   "source": []
  }
 ],
 "metadata": {
  "kernelspec": {
   "display_name": "base",
   "language": "python",
   "name": "python3"
  },
  "language_info": {
   "codemirror_mode": {
    "name": "ipython",
    "version": 3
   },
   "file_extension": ".py",
   "mimetype": "text/x-python",
   "name": "python",
   "nbconvert_exporter": "python",
   "pygments_lexer": "ipython3",
   "version": "3.11.5"
  }
 },
 "nbformat": 4,
 "nbformat_minor": 2
}
