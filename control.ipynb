{
 "cells": [
  {
   "cell_type": "code",
   "execution_count": 3,
   "metadata": {},
   "outputs": [
    {
     "name": "stdout",
     "output_type": "stream",
     "text": [
      "hurray❤️\n",
      "the end\n"
     ]
    }
   ],
   "source": [
    "x = int(input('give me a number:'))\n",
    "if x >= 10:\n",
    "    print(\"hurray❤️\")\n",
    "print(\"the end\")    "
   ]
  },
  {
   "cell_type": "code",
   "execution_count": 12,
   "metadata": {},
   "outputs": [],
   "source": [
    "if x % 2 == 0:\n",
    "    print(\"even\")"
   ]
  },
  {
   "cell_type": "code",
   "execution_count": 14,
   "metadata": {},
   "outputs": [
    {
     "name": "stdout",
     "output_type": "stream",
     "text": [
      "we can buy it\n"
     ]
    }
   ],
   "source": [
    "price = 1900\n",
    "if price> 2000:\n",
    "    print(\"expensive\")\n",
    "else:\n",
    "    print(\"we can buy it\")    \n",
    "    "
   ]
  },
  {
   "cell_type": "code",
   "execution_count": 19,
   "metadata": {},
   "outputs": [
    {
     "name": "stdout",
     "output_type": "stream",
     "text": [
      "4/600 = 0.666667%\n",
      "grade:F\n"
     ]
    }
   ],
   "source": [
    "marks =int(input('enter your marks:'))\n",
    "total = 600\n",
    "pct = marks/total*100\n",
    "print(f'{marks}/{total} = {pct:2f}%')\n",
    "if pct > 90:\n",
    "    grade = 'A'\n",
    "elif pct > 75:\n",
    "    grade = 'B'\n",
    "elif pct > 60:\n",
    "    grade = 'C'\n",
    "elif pct > 40:\n",
    "    grade = 'D' \n",
    "else:\n",
    "    grade = 'F'\n",
    "print(f'grade:{grade}')    \n",
    "      "
   ]
  },
  {
   "cell_type": "code",
   "execution_count": 29,
   "metadata": {},
   "outputs": [
    {
     "name": "stdout",
     "output_type": "stream",
     "text": [
      "what is the capital of himachal?\n",
      "incorrect\n"
     ]
    }
   ],
   "source": [
    "print(\"what is the capital of himachal?\")\n",
    "ans = input('your answer:')\n",
    "match ans:\n",
    "    case 'delhi':\n",
    "        print(\"incorrect\")\n",
    "    case 'shimla'|'Shimla':\n",
    "        print(\"correct\")\n",
    "    case '_':\n",
    "        print('invalid answer')\n",
    "        \n"
   ]
  },
  {
   "cell_type": "markdown",
   "metadata": {},
   "source": [
    "loops\n",
    "     *iteration based for\n",
    "     *condition based while"
   ]
  }
 ],
 "metadata": {
  "kernelspec": {
   "display_name": "base",
   "language": "python",
   "name": "python3"
  },
  "language_info": {
   "codemirror_mode": {
    "name": "ipython",
    "version": 3
   },
   "file_extension": ".py",
   "mimetype": "text/x-python",
   "name": "python",
   "nbconvert_exporter": "python",
   "pygments_lexer": "ipython3",
   "version": "3.11.5"
  }
 },
 "nbformat": 4,
 "nbformat_minor": 2
}
