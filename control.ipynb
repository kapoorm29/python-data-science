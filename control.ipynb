{
 "cells": [
  {
   "cell_type": "code",
   "execution_count": 3,
   "metadata": {},
   "outputs": [
    {
     "name": "stdout",
     "output_type": "stream",
     "text": [
      "hurray❤️\n",
      "the end\n"
     ]
    }
   ],
   "source": [
    "x = int(input('give me a number:'))\n",
    "if x >= 10:\n",
    "    print(\"hurray❤️\")\n",
    "print(\"the end\")    "
   ]
  },
  {
   "cell_type": "code",
   "execution_count": 12,
   "metadata": {},
   "outputs": [],
   "source": [
    "if x % 2 == 0:\n",
    "    print(\"even\")"
   ]
  },
  {
   "cell_type": "code",
   "execution_count": 14,
   "metadata": {},
   "outputs": [
    {
     "name": "stdout",
     "output_type": "stream",
     "text": [
      "we can buy it\n"
     ]
    }
   ],
   "source": [
    "price = 1900\n",
    "if price> 2000:\n",
    "    print(\"expensive\")\n",
    "else:\n",
    "    print(\"we can buy it\")    \n",
    "    "
   ]
  },
  {
   "cell_type": "code",
   "execution_count": 19,
   "metadata": {},
   "outputs": [
    {
     "name": "stdout",
     "output_type": "stream",
     "text": [
      "4/600 = 0.666667%\n",
      "grade:F\n"
     ]
    }
   ],
   "source": [
    "marks =int(input('enter your marks:'))\n",
    "total = 600\n",
    "pct = marks/total*100\n",
    "print(f'{marks}/{total} = {pct:2f}%')\n",
    "if pct > 90:\n",
    "    grade = 'A'\n",
    "elif pct > 75:\n",
    "    grade = 'B'\n",
    "elif pct > 60:\n",
    "    grade = 'C'\n",
    "elif pct > 40:\n",
    "    grade = 'D' \n",
    "else:\n",
    "    grade = 'F'\n",
    "print(f'grade:{grade}')    \n",
    "      "
   ]
  },
  {
   "cell_type": "code",
   "execution_count": 29,
   "metadata": {},
   "outputs": [
    {
     "name": "stdout",
     "output_type": "stream",
     "text": [
      "what is the capital of himachal?\n",
      "incorrect\n"
     ]
    }
   ],
   "source": [
    "print(\"what is the capital of himachal?\")\n",
    "ans = input('your answer:')\n",
    "match ans:\n",
    "    case 'delhi':\n",
    "        print(\"incorrect\")\n",
    "    case 'shimla'|'Shimla':\n",
    "        print(\"correct\")\n",
    "    case '_':\n",
    "        print('invalid answer')\n",
    "        \n"
   ]
  },
  {
   "cell_type": "markdown",
   "metadata": {},
   "source": [
    "loops\n",
    "     *iteration based for\n",
    "     *condition based while"
   ]
  },
  {
   "cell_type": "code",
   "execution_count": 30,
   "metadata": {},
   "outputs": [],
   "source": [
    "movies = [\n",
    "\"The Godfather (1972)\",\n",
    "\"Inception (2010)\",\n",
    "\"Schindler's List (1993)\",\n",
    "\"Pulp Fiction (1994)\",\n",
    "\"The Shawshank Redemption (1994)\",\n",
    "\"The Dark Knight (2008)\",\n",
    "\"Forrest Gump (1994)\",\n",
    "\"the Matrix (1999)\",\n",
    "\"Casablanca (1942)\",\n",
    "\"Titanic (1997)\",\n",
    "\"The Silence of the Lambs (1991)\",\n",
    "\"The Lord of the Rings: The Fellowship of the Ring (2001)\",\n",
    "\"Fight Club (1999)\",\n",
    "\"Jurassic Park (1993)\",\n",
    "\"The Breakfast Club (1985)\",\n",
    "\"La La Land (2016)\",\n",
    "\"Avatar (2009)\",\n",
    "\"The Grand Budapest Hotel (2014)\",\n",
    "\"Gladiator (2000)\",\n",
    "\"Spirited Away (2001)\",\n",
    "\"The Social Network (2010)\",\n",
    "\"Gone with the Wind (1939)\",\n",
    "\"The Princess Bride (1987)\",\n",
    "\"The Departed (2006)\",\n",
    "\"The Great Gatsby (2013)\",\n",
    "\n",
    "]"
   ]
  },
  {
   "cell_type": "markdown",
   "metadata": {},
   "source": [
    "for item in iterable:\n",
    "    statement 1\n",
    "    ...\n",
    "    statement  n"
   ]
  },
  {
   "cell_type": "code",
   "execution_count": 31,
   "metadata": {},
   "outputs": [
    {
     "name": "stdout",
     "output_type": "stream",
     "text": [
      "The Godfather (1972)\n",
      "Inception (2010)\n",
      "Schindler's List (1993)\n",
      "Pulp Fiction (1994)\n",
      "The Shawshank Redemption (1994)\n",
      "The Dark Knight (2008)\n",
      "Forrest Gump (1994)\n",
      "the Matrix (1999)\n",
      "Casablanca (1942)\n",
      "Titanic (1997)\n",
      "The Silence of the Lambs (1991)\n",
      "The Lord of the Rings: The Fellowship of the Ring (2001)\n",
      "Fight Club (1999)\n",
      "Jurassic Park (1993)\n",
      "The Breakfast Club (1985)\n",
      "La La Land (2016)\n",
      "Avatar (2009)\n",
      "The Grand Budapest Hotel (2014)\n",
      "Gladiator (2000)\n",
      "Spirited Away (2001)\n",
      "The Social Network (2010)\n",
      "Gone with the Wind (1939)\n",
      "The Princess Bride (1987)\n",
      "The Departed (2006)\n",
      "The Great Gatsby (2013)\n"
     ]
    }
   ],
   "source": [
    "for i in movies:\n",
    "    print(i)\n",
    "    "
   ]
  },
  {
   "cell_type": "code",
   "execution_count": 32,
   "metadata": {},
   "outputs": [
    {
     "name": "stdout",
     "output_type": "stream",
     "text": [
      "12\n",
      "45\n",
      "56\n",
      "122\n"
     ]
    }
   ],
   "source": [
    "for i in [12,45,56,122]:\n",
    "    print(i)"
   ]
  },
  {
   "cell_type": "code",
   "execution_count": 33,
   "metadata": {},
   "outputs": [
    {
     "name": "stdout",
     "output_type": "stream",
     "text": [
      "10\n",
      "9\n",
      "8\n",
      "7\n",
      "6\n",
      "5\n",
      "4\n",
      "3\n",
      "2\n",
      "1\n"
     ]
    }
   ],
   "source": [
    "for i in range(10, 0, -1):\n",
    "    print(i)"
   ]
  },
  {
   "cell_type": "code",
   "execution_count": 34,
   "metadata": {},
   "outputs": [
    {
     "name": "stdout",
     "output_type": "stream",
     "text": [
      "0\n",
      "1\n",
      "2\n",
      "3\n",
      "4\n",
      "5\n",
      "6\n",
      "7\n",
      "8\n",
      "9\n"
     ]
    }
   ],
   "source": [
    "for i in range (0, 10, +1):\n",
    "    print(i)"
   ]
  },
  {
   "cell_type": "code",
   "execution_count": 35,
   "metadata": {},
   "outputs": [
    {
     "name": "stdout",
     "output_type": "stream",
     "text": [
      "0\n",
      "2\n",
      "4\n",
      "6\n",
      "8\n",
      "10\n",
      "12\n",
      "14\n",
      "16\n",
      "18\n",
      "20\n",
      "22\n",
      "24\n",
      "26\n",
      "28\n",
      "30\n",
      "32\n",
      "34\n",
      "36\n",
      "38\n",
      "40\n",
      "42\n",
      "44\n",
      "46\n",
      "48\n"
     ]
    }
   ],
   "source": [
    "for i in range (0, 50, 2):\n",
    "    print(i)"
   ]
  },
  {
   "cell_type": "code",
   "execution_count": 36,
   "metadata": {},
   "outputs": [
    {
     "name": "stdout",
     "output_type": "stream",
     "text": [
      "Pulp Fiction (1994)\n",
      "Forrest Gump (1994)\n",
      "Fight Club (1999)\n",
      "Jurassic Park (1993)\n",
      "The Breakfast Club (1985)\n",
      "The Grand Budapest Hotel (2014)\n"
     ]
    }
   ],
   "source": [
    "for name in movies:\n",
    "    if 'u' in name:\n",
    "        print(name)"
   ]
  },
  {
   "cell_type": "code",
   "execution_count": 38,
   "metadata": {},
   "outputs": [
    {
     "name": "stdout",
     "output_type": "stream",
     "text": [
      "Pulp Fiction (1994)\n",
      "The Shawshank Redemption (1994)\n",
      "Forrest Gump (1994)\n",
      "The Silence of the Lambs (1991)\n",
      "Fight Club (1999)\n",
      "Jurassic Park (1993)\n",
      "The Breakfast Club (1985)\n",
      "The Grand Budapest Hotel (2014)\n"
     ]
    }
   ],
   "source": [
    "for name in movies:\n",
    "    if 'm' in name or \"u\" in name:\n",
    "        print(name)"
   ]
  },
  {
   "cell_type": "code",
   "execution_count": 39,
   "metadata": {},
   "outputs": [
    {
     "name": "stdout",
     "output_type": "stream",
     "text": [
      "The Godfather (1972)\n",
      "The Shawshank Redemption (1994)\n",
      "The Dark Knight (2008)\n",
      "the Matrix (1999)\n",
      "The Silence of the Lambs (1991)\n",
      "The Lord of the Rings: The Fellowship of the Ring (2001)\n",
      "The Breakfast Club (1985)\n",
      "The Grand Budapest Hotel (2014)\n",
      "The Social Network (2010)\n",
      "Gone with the Wind (1939)\n",
      "The Princess Bride (1987)\n",
      "The Departed (2006)\n",
      "The Great Gatsby (2013)\n"
     ]
    }
   ],
   "source": [
    "for name in movies:\n",
    "    if 'The' in name or \"the\" in name:\n",
    "        print(name)"
   ]
  },
  {
   "cell_type": "code",
   "execution_count": 41,
   "metadata": {},
   "outputs": [
    {
     "name": "stdout",
     "output_type": "stream",
     "text": [
      "The Godfather (1972)\n",
      "The Shawshank Redemption (1994)\n",
      "The Dark Knight (2008)\n",
      "the Matrix (1999)\n",
      "The Silence of the Lambs (1991)\n",
      "The Lord of the Rings: The Fellowship of the Ring (2001)\n",
      "The Breakfast Club (1985)\n",
      "The Grand Budapest Hotel (2014)\n",
      "The Social Network (2010)\n",
      "Gone with the Wind (1939)\n",
      "The Princess Bride (1987)\n",
      "The Departed (2006)\n",
      "The Great Gatsby (2013)\n"
     ]
    }
   ],
   "source": [
    "for name in movies:\n",
    "    if 'the' in name.lower():\n",
    "        print(name)"
   ]
  },
  {
   "cell_type": "code",
   "execution_count": 42,
   "metadata": {},
   "outputs": [
    {
     "ename": "NameError",
     "evalue": "name 'totl' is not defined",
     "output_type": "error",
     "traceback": [
      "\u001b[1;31m---------------------------------------------------------------------------\u001b[0m",
      "\u001b[1;31mNameError\u001b[0m                                 Traceback (most recent call last)",
      "Cell \u001b[1;32mIn[42], line 5\u001b[0m\n\u001b[0;32m      3\u001b[0m \u001b[38;5;28;01mfor\u001b[39;00m i \u001b[38;5;129;01min\u001b[39;00m x:\n\u001b[0;32m      4\u001b[0m     total \u001b[38;5;241m+\u001b[39m\u001b[38;5;241m=\u001b[39mi\n\u001b[1;32m----> 5\u001b[0m     \u001b[38;5;28mprint\u001b[39m(totl)\n",
      "\u001b[1;31mNameError\u001b[0m: name 'totl' is not defined"
     ]
    }
   ],
   "source": [
    "x = [3,2,1,5,6]\n",
    "total = 0\n",
    "for i in x:\n",
    "    total +=i\n",
    "    print(totl)"
   ]
  },
  {
   "cell_type": "code",
   "execution_count": 45,
   "metadata": {},
   "outputs": [
    {
     "name": "stdout",
     "output_type": "stream",
     "text": [
      "17\n"
     ]
    }
   ],
   "source": [
    "x = [3,2,1,5,6]\n",
    "total = 0\n",
    "for i in x:\n",
    "    total +=i\n",
    "print(total)"
   ]
  },
  {
   "cell_type": "code",
   "execution_count": 44,
   "metadata": {},
   "outputs": [
    {
     "data": {
      "text/plain": [
       "17"
      ]
     },
     "execution_count": 44,
     "metadata": {},
     "output_type": "execute_result"
    }
   ],
   "source": [
    "sum(x)"
   ]
  },
  {
   "cell_type": "markdown",
   "metadata": {},
   "source": [
    "factorial program\n"
   ]
  },
  {
   "cell_type": "code",
   "execution_count": 46,
   "metadata": {},
   "outputs": [
    {
     "name": "stdout",
     "output_type": "stream",
     "text": [
      "2\n",
      "3\n",
      "4\n",
      "5\n",
      "6\n",
      "7\n",
      "8\n",
      "9\n",
      "10\n"
     ]
    }
   ],
   "source": [
    "n = 10\n",
    "fact = 1\n",
    "for i in range(2, n+1):\n",
    "    print(i)"
   ]
  },
  {
   "cell_type": "code",
   "execution_count": 51,
   "metadata": {},
   "outputs": [
    {
     "name": "stdout",
     "output_type": "stream",
     "text": [
      "25 15511210043330985984000000\n"
     ]
    }
   ],
   "source": [
    "n = 25\n",
    "fact = 1\n",
    "for i in range(2, n+1):\n",
    "    fact *=i\n",
    "print(i,fact)\n"
   ]
  },
  {
   "cell_type": "code",
   "execution_count": 53,
   "metadata": {},
   "outputs": [
    {
     "name": "stdout",
     "output_type": "stream",
     "text": [
      "4 24\n"
     ]
    }
   ],
   "source": [
    "n = 4\n",
    "fact = 1\n",
    "for i in range(2, n+1):\n",
    "    fact *=i\n",
    "print(i,fact)\n"
   ]
  },
  {
   "cell_type": "code",
   "execution_count": 54,
   "metadata": {},
   "outputs": [
    {
     "name": "stdout",
     "output_type": "stream",
     "text": [
      "100 93326215443944152681699238856266700490715968264381621468592963895217599993229915608941463976156518286253697920827223758251185210916864000000000000000000000000\n"
     ]
    }
   ],
   "source": [
    "n = 100\n",
    "fact = 1\n",
    "for i in range(2, n+1):\n",
    "    fact *=i\n",
    "print(i,fact)\n"
   ]
  },
  {
   "cell_type": "code",
   "execution_count": 1,
   "metadata": {},
   "outputs": [
    {
     "name": "stdout",
     "output_type": "stream",
     "text": [
      "1\n",
      "2\n",
      "3\n",
      "4\n",
      "5\n",
      "6\n",
      "7\n",
      "8\n",
      "9\n"
     ]
    }
   ],
   "source": [
    "a = 1\n",
    "while a < 10:\n",
    "    print(a)\n",
    "    a += 1"
   ]
  },
  {
   "cell_type": "code",
   "execution_count": 4,
   "metadata": {},
   "outputs": [
    {
     "name": "stdout",
     "output_type": "stream",
     "text": [
      "very good\n"
     ]
    }
   ],
   "source": [
    "while True:\n",
    "    x = input('enter a number:')\n",
    "    if x.isnumeric():\n",
    "        print('very good')\n",
    "        break\n",
    "    else:\n",
    "        print('invalid input')"
   ]
  },
  {
   "cell_type": "code",
   "execution_count": null,
   "metadata": {},
   "outputs": [],
   "source": []
  }
 ],
 "metadata": {
  "kernelspec": {
   "display_name": "base",
   "language": "python",
   "name": "python3"
  },
  "language_info": {
   "codemirror_mode": {
    "name": "ipython",
    "version": 3
   },
   "file_extension": ".py",
   "mimetype": "text/x-python",
   "name": "python",
   "nbconvert_exporter": "python",
   "pygments_lexer": "ipython3",
   "version": "3.11.5"
  }
 },
 "nbformat": 4,
 "nbformat_minor": 2
}
