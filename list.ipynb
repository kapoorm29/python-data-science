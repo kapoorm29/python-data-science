{
 "cells": [
  {
   "cell_type": "markdown",
   "metadata": {},
   "source": [
    "python collection\n",
    "- list\n",
    "- tuple\n",
    "- set\n",
    "- collection"
   ]
  },
  {
   "cell_type": "code",
   "execution_count": null,
   "metadata": {},
   "outputs": [],
   "source": [
    "#defining list in python\n",
    "\n",
    "#list of strings \n",
    "list1 = ['Nikhlesh', 'Aman', 'Rahul', 'dewansh', 'Rishabh']\n",
    "\n",
    "#list of numbers\n",
    "list2 =[1, 2, 3, 4, 5, 15, 25, 100]\n",
    "\n",
    "#mixed data list\n",
    "list3 = ['ravi',90,102,93,29,44,\"B\",False,5.786]\n",
    "\n",
    "#nested list\n",
    "list4 = [[1,2,3],[3,4,5,7],[2,1]]"
   ]
  },
  {
   "cell_type": "code",
   "execution_count": 9,
   "metadata": {},
   "outputs": [],
   "source": [
    "data = ['warbreaker','brandon sanderson',\n",
    "        'high fantasy','890',\n",
    "        '2015','tor'\n",
    "        ]"
   ]
  },
  {
   "cell_type": "code",
   "execution_count": 10,
   "metadata": {},
   "outputs": [
    {
     "name": "stdout",
     "output_type": "stream",
     "text": [
      "warbreaker\n",
      "brandon sanderson\n",
      "high fantasy\n",
      "890\n",
      "2015\n",
      "tor\n"
     ]
    }
   ],
   "source": [
    "for item in data:\n",
    "    print(item)"
   ]
  },
  {
   "cell_type": "code",
   "execution_count": 12,
   "metadata": {},
   "outputs": [
    {
     "name": "stdout",
     "output_type": "stream",
     "text": [
      "warbreaker\n",
      "tor\n",
      "890\n"
     ]
    }
   ],
   "source": [
    "#indexed\n",
    "print(data[0]) #indexed -> 0\n",
    "print(data[-1]) #last element\n",
    "print(data[3]) #indexed -> 3"
   ]
  },
  {
   "cell_type": "code",
   "execution_count": 14,
   "metadata": {},
   "outputs": [
    {
     "name": "stdout",
     "output_type": "stream",
     "text": [
      "['warbreaker', 'brandon sanderson', 'high fantasy']\n",
      "['890', '2015', 'tor']\n"
     ]
    }
   ],
   "source": [
    "#slicing\n",
    "print(data[:3])  #first 3 elements\n",
    "print(data[-3:])  #last 3 elements"
   ]
  },
  {
   "cell_type": "code",
   "execution_count": 16,
   "metadata": {},
   "outputs": [
    {
     "name": "stdout",
     "output_type": "stream",
     "text": [
      "['tor', '2015', '890', 'high fantasy', 'brandon sanderson', 'warbreaker']\n",
      "['warbreaker', 'high fantasy', '2015']\n"
     ]
    }
   ],
   "source": [
    "print(data[::-1])  #reverse\n",
    "print(data[::2])  #every other element"
   ]
  },
  {
   "cell_type": "code",
   "execution_count": 18,
   "metadata": {},
   "outputs": [
    {
     "name": "stdout",
     "output_type": "stream",
     "text": [
      "['2015', '890', 'brandon sanderson', 'high fantasy', 'tor', 'warbreaker']\n"
     ]
    }
   ],
   "source": [
    "data.sort()\n",
    "print(data)"
   ]
  },
  {
   "cell_type": "code",
   "execution_count": 19,
   "metadata": {},
   "outputs": [
    {
     "name": "stdout",
     "output_type": "stream",
     "text": [
      "['warbreaker', 'tor', 'high fantasy', 'brandon sanderson', '890', '2015']\n"
     ]
    }
   ],
   "source": [
    "data.sort(reverse=True)\n",
    "print(data)"
   ]
  },
  {
   "cell_type": "code",
   "execution_count": 20,
   "metadata": {},
   "outputs": [
    {
     "name": "stdout",
     "output_type": "stream",
     "text": [
      "['2015', '890', 'brandon sanderson', 'high fantasy', 'tor', 'warbreaker']\n"
     ]
    }
   ],
   "source": [
    "data.reverse()\n",
    "print(data)"
   ]
  },
  {
   "cell_type": "code",
   "execution_count": 23,
   "metadata": {},
   "outputs": [
    {
     "data": {
      "text/plain": [
       "4"
      ]
     },
     "execution_count": 23,
     "metadata": {},
     "output_type": "execute_result"
    }
   ],
   "source": [
    "data.index('tor')  #index of the value"
   ]
  },
  {
   "cell_type": "code",
   "execution_count": 29,
   "metadata": {},
   "outputs": [
    {
     "data": {
      "text/plain": [
       "4"
      ]
     },
     "execution_count": 29,
     "metadata": {},
     "output_type": "execute_result"
    }
   ],
   "source": [
    "data.index('tor')"
   ]
  },
  {
   "cell_type": "code",
   "execution_count": 17,
   "metadata": {},
   "outputs": [
    {
     "data": {
      "text/plain": [
       "['apple', 'banana', 'cherry', 'guava']"
      ]
     },
     "execution_count": 17,
     "metadata": {},
     "output_type": "execute_result"
    }
   ],
   "source": [
    "#append function - to add item in the end of list\n",
    "fruits = []\n",
    "fruits.append(\"apple\")\n",
    "fruits.append(\"banana\")\n",
    "fruits.append(\"cherry\")\n",
    "fruits.append(\"guava\")\n",
    "fruits"
   ]
  },
  {
   "cell_type": "code",
   "execution_count": 21,
   "metadata": {},
   "outputs": [
    {
     "name": "stdout",
     "output_type": "stream",
     "text": [
      "['apple', 'orange', 'banana', 'cherry', 'guava']\n"
     ]
    }
   ],
   "source": [
    "fruits.insert(1,\"orange\")\n",
    "print(fruits)"
   ]
  },
  {
   "cell_type": "code",
   "execution_count": 27,
   "metadata": {},
   "outputs": [
    {
     "data": {
      "text/plain": [
       "['apple', 'banana', 'cherry', 'guava', 'almond', 'cashew', 'walnut']"
      ]
     },
     "execution_count": 27,
     "metadata": {},
     "output_type": "execute_result"
    }
   ],
   "source": [
    "#extend function - to merge list\n",
    "\n",
    "fruits = ['apple', 'banana', 'cherry' , 'guava']\n",
    "dry_fruits = ['almond', 'cashew', 'walnut']\n",
    "fruits.extend(dry_fruits)\n",
    "fruits"
   ]
  },
  {
   "cell_type": "code",
   "execution_count": 25,
   "metadata": {},
   "outputs": [
    {
     "data": {
      "text/plain": [
       "['apple', 'banana', 'guava', 'almond', 'cashew', 'walnut']"
      ]
     },
     "execution_count": 25,
     "metadata": {},
     "output_type": "execute_result"
    }
   ],
   "source": [
    "#remove function\n",
    "\n",
    "fruits.remove('cherry')\n",
    "fruits"
   ]
  },
  {
   "cell_type": "code",
   "execution_count": 30,
   "metadata": {},
   "outputs": [
    {
     "name": "stdout",
     "output_type": "stream",
     "text": [
      "walnut\n"
     ]
    }
   ],
   "source": [
    "#pop function - to remove\n",
    "\n",
    "#by list.pop()method- it will remove the last item automatically\n",
    "v = fruits.pop()\n",
    "print(v)"
   ]
  },
  {
   "cell_type": "code",
   "execution_count": 34,
   "metadata": {},
   "outputs": [
    {
     "name": "stdout",
     "output_type": "stream",
     "text": [
      "cashew\n"
     ]
    }
   ],
   "source": [
    "#by list.pop(idx) method - to remove specific item index no.\n",
    "v = fruits.pop(2)\n",
    "print(v)"
   ]
  },
  {
   "cell_type": "code",
   "execution_count": null,
   "metadata": {},
   "outputs": [],
   "source": []
  },
  {
   "cell_type": "code",
   "execution_count": null,
   "metadata": {},
   "outputs": [],
   "source": []
  }
 ],
 "metadata": {
  "kernelspec": {
   "display_name": "base",
   "language": "python",
   "name": "python3"
  },
  "language_info": {
   "codemirror_mode": {
    "name": "ipython",
    "version": 3
   },
   "file_extension": ".py",
   "mimetype": "text/x-python",
   "name": "python",
   "nbconvert_exporter": "python",
   "pygments_lexer": "ipython3",
   "version": "3.11.5"
  }
 },
 "nbformat": 4,
 "nbformat_minor": 2
}
